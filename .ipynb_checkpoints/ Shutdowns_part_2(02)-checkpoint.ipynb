{
 "cells": [
  {
   "cell_type": "markdown",
   "metadata": {},
   "source": [
    "Данный пайплайн автоматизирует анализ данных по отключениям электроэнергии в РФ.\n",
    "\n",
    "Ячейки с выводом информации по коду захэшированы, чтобы не раскрывать данные."
   ]
  },
  {
   "cell_type": "code",
   "execution_count": 184,
   "metadata": {},
   "outputs": [],
   "source": [
    "import pandas as pd\n",
    "import numpy as np\n",
    "import difflib\n",
    "import timeit\n",
    "import matplotlib.pyplot as plt\n",
    "import seaborn as sns\n",
    "import os\n",
    "%matplotlib inline\n",
    "\n",
    "from sklearn import metrics\n",
    "from sklearn.cluster import KMeans\n",
    "from sklearn.cluster import DBSCAN\n",
    "from sklearn.feature_extraction.text import CountVectorizer\n",
    "from sklearn.metrics import silhouette_score\n",
    "from sklearn.preprocessing import StandardScaler"
   ]
  },
  {
   "cell_type": "code",
   "execution_count": 186,
   "metadata": {},
   "outputs": [],
   "source": [
    "YEAR = 2020\n",
    "\n",
    "if not os.path.exists(f'Данные_{YEAR}'):\n",
    "    os.mkdir(f'Данные_{YEAR}')\n",
    "    \n",
    "os.chdir(f\"/Users/denisenko/Desktop/Минэнерго/Отключения - выгрузка/Данные_{YEAR}\")"
   ]
  },
  {
   "cell_type": "markdown",
   "metadata": {},
   "source": [
    "# Загрузка"
   ]
  },
  {
   "cell_type": "code",
   "execution_count": 187,
   "metadata": {},
   "outputs": [],
   "source": [
    "file_dir = f'/Users/denisenko/Desktop/Минэнерго/Отключения - выгрузка/Данные/Форма_8.1_(2020_год).xlsx'\n",
    "\n",
    "df = pd.read_excel(file_dir, skiprows=0, header=1)"
   ]
  },
  {
   "cell_type": "code",
   "execution_count": 1,
   "metadata": {},
   "outputs": [],
   "source": [
    "#df.head(5)"
   ]
  },
  {
   "cell_type": "code",
   "execution_count": 189,
   "metadata": {},
   "outputs": [],
   "source": [
    "# Скопируем датасет\n",
    "dfcop = df.copy()"
   ]
  },
  {
   "cell_type": "markdown",
   "metadata": {},
   "source": [
    "# Обзор и приведение датасета "
   ]
  },
  {
   "cell_type": "code",
   "execution_count": 190,
   "metadata": {
    "scrolled": true
   },
   "outputs": [],
   "source": [
    "dfcop.columns = dfcop.loc[0]\n",
    "dfcop = dfcop[2:]\n",
    "\n",
    "# Список колонок, которые несут полезную информацию\n",
    "list_columns = [0,1,2,3,9,10,11,12,13,22,23,24,25,26,27,31,33,42,45,46]"
   ]
  },
  {
   "cell_type": "code",
   "execution_count": 191,
   "metadata": {},
   "outputs": [],
   "source": [
    "# оставим только нужные колонки\n",
    "dfcop = dfcop.iloc[:,list_columns]"
   ]
  },
  {
   "cell_type": "code",
   "execution_count": 192,
   "metadata": {},
   "outputs": [],
   "source": [
    "new_columns_name = ['year',\n",
    " 'month',\n",
    " 'id_TSO',\n",
    " 'name_TSO',\n",
    " 'id_region',\n",
    " 'region',\n",
    " 'id_FO',\n",
    " 'FO',\n",
    " 'org_type_TSO',\n",
    " 'name_unit',\n",
    " 'object_type',\n",
    " 'object_name',\n",
    " 'max_voltage',\n",
    " 'time_start',\n",
    " 'time_finish',\n",
    " 'duration_hour',\n",
    " 'number_delivery_points',\n",
    " 'total_amount_capacity',\n",
    " 'code_org_reason',\n",
    " 'code_tech_reason',\n",
    "]\n",
    "\n",
    "dfcop.columns = new_columns_name"
   ]
  },
  {
   "cell_type": "code",
   "execution_count": 2,
   "metadata": {
    "scrolled": true
   },
   "outputs": [],
   "source": [
    "#dfcop.info()"
   ]
  },
  {
   "cell_type": "code",
   "execution_count": 3,
   "metadata": {},
   "outputs": [],
   "source": [
    "#dfcop['total_amount_capacity'].sum()"
   ]
  },
  {
   "cell_type": "code",
   "execution_count": 195,
   "metadata": {},
   "outputs": [],
   "source": [
    "# меняем типы данных для отдельных колонок\n",
    "dfcop[['year',\n",
    "       'month',\n",
    "       'id_TSO',\n",
    "      'id_region',\n",
    "      'number_delivery_points',\n",
    "      ]] = dfcop[['year',\n",
    "       'month',\n",
    "       'id_TSO',\n",
    "      'id_region',\n",
    "      'number_delivery_points',\n",
    "      ]].astype(int)\n",
    "\n",
    "dfcop[['duration_hour','total_amount_capacity']] = dfcop[['duration_hour','total_amount_capacity']].astype(float)"
   ]
  },
  {
   "cell_type": "code",
   "execution_count": 4,
   "metadata": {},
   "outputs": [],
   "source": [
    "#dfcop['total_amount_capacity'].sum()"
   ]
  },
  {
   "cell_type": "markdown",
   "metadata": {},
   "source": [
    "## Датасет с данными по ТСО (кол-во точек поставки)"
   ]
  },
  {
   "cell_type": "code",
   "execution_count": 197,
   "metadata": {},
   "outputs": [],
   "source": [
    "url_83 = '/Users/denisenko/Desktop/Минэнерго/Отключения - выгрузка/Данные/Форма_8.3_(8).xlsx'\n",
    "\n",
    "df_83 = pd.read_excel(url_83)"
   ]
  },
  {
   "cell_type": "code",
   "execution_count": 5,
   "metadata": {},
   "outputs": [],
   "source": [
    "# print('Количество записей в датасете = ', df_83.shape[0])\n",
    "# print('Количество уникальных id ТСО = ', df_83['id ТСО'].nunique())"
   ]
  },
  {
   "cell_type": "code",
   "execution_count": 199,
   "metadata": {},
   "outputs": [],
   "source": [
    "df_83_id = df_83[['id ТСО','Максимальное за расчетный период регулирования число точек поставки сетевой организации, шт.']]\n",
    "df_83_id.columns = ['id_TSO','max_points']"
   ]
  },
  {
   "cell_type": "code",
   "execution_count": 6,
   "metadata": {},
   "outputs": [],
   "source": [
    "#df_83_id.info()"
   ]
  },
  {
   "cell_type": "code",
   "execution_count": 201,
   "metadata": {},
   "outputs": [],
   "source": [
    "# df_83_id['max_points'].fillna(0,inplace=True)"
   ]
  },
  {
   "cell_type": "code",
   "execution_count": 202,
   "metadata": {},
   "outputs": [
    {
     "data": {
      "text/plain": [
       "id_TSO          0\n",
       "max_points    112\n",
       "dtype: int64"
      ]
     },
     "execution_count": 202,
     "metadata": {},
     "output_type": "execute_result"
    }
   ],
   "source": [
    "df_83_id.isna().sum()"
   ]
  },
  {
   "cell_type": "code",
   "execution_count": 203,
   "metadata": {},
   "outputs": [],
   "source": [
    "# Замерджим два датасета\n",
    "dfcop = dfcop.merge(df_83_id, how='left', on='id_TSO')"
   ]
  },
  {
   "cell_type": "markdown",
   "metadata": {},
   "source": [
    "## Новые признаки и очистка"
   ]
  },
  {
   "cell_type": "code",
   "execution_count": 204,
   "metadata": {},
   "outputs": [],
   "source": [
    "# Проведем некоторую очистку данных и приведение к удобному формату\n",
    "\n",
    "# Добавим наименованиям объектов ID ТСОшек\n",
    "dfcop['object_name'] = dfcop['object_name'].astype(str) +'_id_'+ dfcop['id_TSO'].astype(str)\n",
    "\n",
    "dfcop['powerhour'] = dfcop['total_amount_capacity'] * dfcop['duration_hour']/1000\n",
    "\n",
    "dfcop['powhour_per_points'] = dfcop['powerhour'] / dfcop['number_delivery_points']\n",
    "dfcop['powhour_per_points'] = dfcop['powhour_per_points'].fillna(0)\n",
    "\n",
    "dfcop['object_type'] = dfcop['object_type'].apply(lambda x: x.upper())\n",
    "\n",
    "dfcop['code_org_reason'] = dfcop['code_org_reason'].apply(lambda x: str(x).replace(', ',',').replace(',',', '))\n",
    "\n",
    "dfcop['code_tech_reason'] = dfcop['code_tech_reason'].apply(lambda x: str(x).replace(', ',',').replace(',',', '))"
   ]
  },
  {
   "cell_type": "code",
   "execution_count": 205,
   "metadata": {},
   "outputs": [],
   "source": [
    "# Удалим строки, где нет данных по количеству точек поствки\n",
    "dfcop.dropna(subset=['max_points'],inplace=True)"
   ]
  },
  {
   "cell_type": "code",
   "execution_count": 7,
   "metadata": {},
   "outputs": [],
   "source": [
    "#dfcop.info()"
   ]
  },
  {
   "cell_type": "code",
   "execution_count": 8,
   "metadata": {},
   "outputs": [],
   "source": [
    "#dfcop.nunique()"
   ]
  },
  {
   "cell_type": "markdown",
   "metadata": {},
   "source": [
    "Из странного:\n",
    "\n",
    "1. Не совпадает кол-во id ТСО и наименований ТСО\n",
    "\n",
    "2. Слишком много уникальных значений в кодах организационных и технических причин аварий.\n",
    "\n"
   ]
  },
  {
   "cell_type": "markdown",
   "metadata": {},
   "source": [
    "## Дата и время"
   ]
  },
  {
   "cell_type": "code",
   "execution_count": 208,
   "metadata": {},
   "outputs": [],
   "source": [
    "dfcop['time_start'] = pd.to_datetime(dfcop['time_start'])\n",
    "\n",
    "dfcop['dayofweek'] = dfcop['time_start'].apply(lambda x: x.dayofweek)\n",
    "\n",
    "dict_dayofweek = {0:'1.пн',\n",
    "                 1:'2.вт',\n",
    "                 2:'3.ср',\n",
    "                 3:'4.чт',\n",
    "                 4:'5.пт',\n",
    "                 5:'6.сб',\n",
    "                 6:'7.вс',}\n",
    "\n",
    "dfcop['dayofweek'] = dfcop['dayofweek'].map(dict_dayofweek)\n",
    "\n",
    "dfcop['start_hour'] = dfcop['time_start'].apply(lambda x: x.hour)"
   ]
  },
  {
   "cell_type": "code",
   "execution_count": 9,
   "metadata": {},
   "outputs": [],
   "source": [
    "#dfcop.head(3)"
   ]
  },
  {
   "cell_type": "code",
   "execution_count": 210,
   "metadata": {},
   "outputs": [],
   "source": [
    "# Очистка наименований регионов\n",
    "dfcop['region'] = dfcop['region'].apply(lambda x: x.replace(' /','-').replace('/','').replace(' -',''))"
   ]
  },
  {
   "cell_type": "markdown",
   "metadata": {},
   "source": [
    "# Обобщенная аналитика"
   ]
  },
  {
   "cell_type": "markdown",
   "metadata": {},
   "source": [
    "### По ФО"
   ]
  },
  {
   "cell_type": "code",
   "execution_count": 26,
   "metadata": {},
   "outputs": [],
   "source": [
    "# # Наибольшая общая длительность отключений по ФО\n",
    "# display(dfcop.groupby('FO')['duration_hour'].sum().sort_values(ascending=False))\n",
    "\n",
    "# fig1, ax1 = plt.subplots()\n",
    "# explode = (0.1, 0.1, 0, 0,0,0,0,0)\n",
    "# ax1.pie(dfcop.groupby('FO')['duration_hour'].sum().sort_values(ascending=False),\n",
    "#         labels=dfcop.groupby('FO')['duration_hour'].sum().sort_values(ascending=False).index, \n",
    "#         explode = explode,\n",
    "#         autopct='%1.1f%%',\n",
    "#         shadow=True, startangle=90)\n",
    "# ax1.axis('equal')\n",
    "# ax1.set_title('Доля ФО по суммарной длительности отключений')\n",
    "# plt.show()"
   ]
  },
  {
   "cell_type": "code",
   "execution_count": 27,
   "metadata": {},
   "outputs": [],
   "source": [
    "# # Наибольшее количество отключений по ФО\n",
    "# display(dfcop.groupby('FO')['duration_hour'].count().sort_values(ascending=False))\n",
    "\n",
    "# fig1, ax1 = plt.subplots()\n",
    "# explode = (0.1, 0.1, 0, 0,0,0,0,0)\n",
    "# ax1.pie(dfcop.groupby('FO')['duration_hour'].count().sort_values(ascending=False),\n",
    "#         labels=dfcop.groupby('FO')['duration_hour'].count().sort_values(ascending=False).index,\n",
    "#         explode = explode,\n",
    "#         autopct='%1.1f%%',\n",
    "#         shadow=True, startangle=90)\n",
    "# ax1.axis('equal')\n",
    "# ax1.set_title('Доля ФО по общему количеству отключений')\n",
    "# plt.show()"
   ]
  },
  {
   "cell_type": "markdown",
   "metadata": {},
   "source": [
    "### Исследование ФО по регионам"
   ]
  },
  {
   "cell_type": "code",
   "execution_count": 28,
   "metadata": {},
   "outputs": [],
   "source": [
    "# # Функция, чтоб глянуть, распределение субъектов в рамках одного ФО\n",
    "# def stat_by_FO(FO):\n",
    "#     #display(dfcop[dfcop['FO'] == FO].groupby('region')['duration_hour'].count().sort_values(ascending=False))\n",
    "\n",
    "#     fig1, (ax1,ax2) = plt.subplots(2, 1, sharey=False, figsize=(10, 15))\n",
    "#     fig1\n",
    "#     #explode = (0.1, 0.1, 0, 0,0,0,0,0)\n",
    "#     ax1.pie(dfcop[dfcop['FO'] == FO].groupby('region')['duration_hour'].count().sort_values(ascending=False),\n",
    "#             labels=dfcop[dfcop['FO'] == FO].groupby('region')['duration_hour'].count().sort_values(ascending=False).index,\n",
    "\n",
    "#             autopct='%1.1f%%',\n",
    "#             shadow=True, startangle=90)\n",
    "#     ax1.axis('equal')\n",
    "#     ax1.set_title(f'Распределение субъектов в {FO} по количеству отключений\\n')\n",
    "# #    plt.show()\n",
    "    \n",
    "# #    fig2, ax2 = plt.subplots()\n",
    "#     #explode = (0.1, 0.1, 0, 0,0,0,0,0)\n",
    "#     ax2.pie(dfcop[dfcop['FO'] == FO].groupby('name_TSO')['duration_hour'].count()[:10].sort_values(ascending=False),\n",
    "#             labels=dfcop[dfcop['FO'] == FO].groupby('name_TSO')['duration_hour'].count()[:10].sort_values(ascending=False).index,\n",
    "\n",
    "#             autopct='%1.1f%%',\n",
    "#             shadow=True, startangle=90)\n",
    "#     ax2.axis('equal')\n",
    "#     ax2.set_title(f'ТОП 10 ТСО в {FO} по количеству отключений\\n\\n')\n",
    "    \n",
    "#     fig1.savefig(f'Распределение регионов в {FO}')\n",
    "#     plt.show()"
   ]
  },
  {
   "cell_type": "code",
   "execution_count": 29,
   "metadata": {},
   "outputs": [],
   "source": [
    "#stat_by_FO('Приволжский ФО')"
   ]
  },
  {
   "cell_type": "code",
   "execution_count": 30,
   "metadata": {
    "scrolled": true
   },
   "outputs": [],
   "source": [
    "#stat_by_FO('Центральный ФО')"
   ]
  },
  {
   "cell_type": "markdown",
   "metadata": {},
   "source": [
    "### ТОП 10 регионов по общей сумме отключений"
   ]
  },
  {
   "cell_type": "code",
   "execution_count": 211,
   "metadata": {},
   "outputs": [
    {
     "data": {
      "text/plain": [
       "Index(['year', 'month', 'id_TSO', 'name_TSO', 'id_region', 'region', 'id_FO',\n",
       "       'FO', 'org_type_TSO', 'name_unit', 'object_type', 'object_name',\n",
       "       'max_voltage', 'time_start', 'time_finish', 'duration_hour',\n",
       "       'number_delivery_points', 'total_amount_capacity', 'code_org_reason',\n",
       "       'code_tech_reason', 'max_points', 'powerhour', 'powhour_per_points',\n",
       "       'dayofweek', 'start_hour'],\n",
       "      dtype='object')"
      ]
     },
     "execution_count": 211,
     "metadata": {},
     "output_type": "execute_result"
    }
   ],
   "source": [
    "dfcop.columns"
   ]
  },
  {
   "cell_type": "markdown",
   "metadata": {},
   "source": [
    "#### Строим отдельный датафрейм для исследования регионов"
   ]
  },
  {
   "cell_type": "code",
   "execution_count": 212,
   "metadata": {},
   "outputs": [],
   "source": [
    "\n",
    "df_region = pd.DataFrame()\n",
    "\n",
    "# Регион\n",
    "df_region['id_region'] = dfcop.groupby('region')['id_region'].mean()\n",
    "\n",
    "# год\n",
    "df_region['year'] = dfcop.groupby('region')['year'].first()\n",
    "\n",
    "# Количество отключений по регионам\n",
    "df_region['shotdown_count'] = dfcop.groupby('region')['duration_hour'].count()\n",
    "\n",
    "# Суммарная отключенная мощность\n",
    "df_region['sum_power'] = dfcop.groupby('region')['total_amount_capacity'].sum()\n",
    "\n",
    "# Суммарный недоотпуск\n",
    "df_region['powerhour'] = dfcop.groupby('region')['powerhour'].sum()\n",
    "\n",
    "# Недоотпуск на 1 нарушение\n",
    "df_region['powhour/acc'] = df_region['powerhour'] / df_region['shotdown_count']\n",
    "\n",
    "# Суммарная продолжительность отключений\n",
    "df_region['sum_duration_hour'] = dfcop.groupby('region')['duration_hour'].sum()\n",
    "\n",
    "# Длительность устранения на 1 нарушение\n",
    "df_region['duration/acc'] = df_region['sum_duration_hour'] / df_region['shotdown_count']\n",
    "\n",
    "df_region.reset_index(inplace=True)"
   ]
  },
  {
   "cell_type": "code",
   "execution_count": 10,
   "metadata": {},
   "outputs": [],
   "source": [
    "#df_region.head(2)"
   ]
  },
  {
   "cell_type": "code",
   "execution_count": 214,
   "metadata": {},
   "outputs": [],
   "source": [
    "# Подгружаем таблицу населения по регионам\n",
    "pop = pd.read_excel('/Users/denisenko/Desktop/Минэнерго/Отключения - выгрузка/population.xlsx')\n",
    "pop = pop.dropna()\n",
    "\n",
    "pop['id_region'] = pop['id_region'].astype(int)"
   ]
  },
  {
   "cell_type": "code",
   "execution_count": 215,
   "metadata": {},
   "outputs": [
    {
     "data": {
      "text/plain": [
       "numpy.int64"
      ]
     },
     "execution_count": 215,
     "metadata": {},
     "output_type": "execute_result"
    }
   ],
   "source": [
    "type(pop['id_region'][0])"
   ]
  },
  {
   "cell_type": "code",
   "execution_count": 216,
   "metadata": {},
   "outputs": [],
   "source": [
    "# добавляем к датасету данные по населению в регионах\n",
    "df_region = df_region.merge(pop[['population_2020','id_region']], how='left', on='id_region')\n",
    "\n",
    "# убираем строку с ФСК (Россия)\n",
    "df_region = df_region[~df_region['population_2020'].isna() == True] \n",
    "\n",
    "# кол-во отключений на 1 человека * 1000\n",
    "df_region['shotdown/pop*1000'] = (df_region['shotdown_count'] / df_region['population_2020'])*1000\n",
    "\n",
    "# недоотпуск ЭЭ за год на 1 человека\n",
    "df_region['powhour/pop'] = df_region['powerhour'] / df_region['population_2020']\n",
    "\n",
    "# суммарная продолжительность отключений на 1 человека\n",
    "df_region['duration/pop*100'] = (df_region['sum_duration_hour'] / df_region['population_2020'])*100"
   ]
  },
  {
   "cell_type": "code",
   "execution_count": 11,
   "metadata": {},
   "outputs": [],
   "source": [
    "#df_region.sort_values('powhour/pop', ascending=False).head(3)"
   ]
  },
  {
   "cell_type": "markdown",
   "metadata": {},
   "source": [
    "#### heatmap"
   ]
  },
  {
   "cell_type": "code",
   "execution_count": 12,
   "metadata": {},
   "outputs": [],
   "source": [
    "#sns.heatmap(df_region.corr(),annot=True, fmt='.1f')"
   ]
  },
  {
   "cell_type": "code",
   "execution_count": 219,
   "metadata": {},
   "outputs": [],
   "source": [
    "if not os.path.exists(f'ТОПы{YEAR}'):\n",
    "    os.mkdir(f'ТОПы{YEAR}')"
   ]
  },
  {
   "cell_type": "code",
   "execution_count": 220,
   "metadata": {},
   "outputs": [],
   "source": [
    "df_region.sort_values('powhour/pop', ascending=False).to_excel(f\"ТОПы{YEAR}/TOP_regions.xlsx\")"
   ]
  },
  {
   "cell_type": "markdown",
   "metadata": {},
   "source": [
    "### ТОП 10 ТСО - по длительности устранения"
   ]
  },
  {
   "cell_type": "code",
   "execution_count": 221,
   "metadata": {},
   "outputs": [
    {
     "data": {
      "text/plain": [
       "Index(['year', 'month', 'id_TSO', 'name_TSO', 'id_region', 'region', 'id_FO',\n",
       "       'FO', 'org_type_TSO', 'name_unit', 'object_type', 'object_name',\n",
       "       'max_voltage', 'time_start', 'time_finish', 'duration_hour',\n",
       "       'number_delivery_points', 'total_amount_capacity', 'code_org_reason',\n",
       "       'code_tech_reason', 'max_points', 'powerhour', 'powhour_per_points',\n",
       "       'dayofweek', 'start_hour'],\n",
       "      dtype='object')"
      ]
     },
     "execution_count": 221,
     "metadata": {},
     "output_type": "execute_result"
    }
   ],
   "source": [
    " dfcop.columns"
   ]
  },
  {
   "cell_type": "markdown",
   "metadata": {},
   "source": [
    "#### Строим датафрейм для исследования ТСО"
   ]
  },
  {
   "cell_type": "code",
   "execution_count": 222,
   "metadata": {},
   "outputs": [],
   "source": [
    "df_TSO = pd.DataFrame()\n",
    "\n",
    "# Регион\n",
    "df_TSO['region'] = dfcop.groupby('name_TSO')['region'].first()\n",
    "\n",
    "# ТСО\n",
    "df_TSO['id_region'] = dfcop.groupby('name_TSO')['id_region'].mean().astype(int)\n",
    "\n",
    "# год\n",
    "df_TSO['year'] = dfcop.groupby('name_TSO')['year'].first()\n",
    "\n",
    "# Максимальное количество точек поствки\n",
    "df_TSO['max_points'] = dfcop.groupby('name_TSO')['max_points'].mean()\n",
    "df_TSO['max_points'] = df_TSO['max_points'].astype(int)\n",
    "\n",
    "# Количество отключений\n",
    "df_TSO['shotdown_count'] = dfcop.groupby('name_TSO')['duration_hour'].count()\n",
    "\n",
    "# Суммарная продолжительность отключений\n",
    "df_TSO['sum_duration_hour'] = dfcop.groupby('name_TSO')['duration_hour'].sum()\n",
    "\n",
    "# Суммарная отключенная мощность\n",
    "df_TSO['sum_power'] = dfcop.groupby('name_TSO')['total_amount_capacity'].sum()\n",
    "\n",
    "# Суммарный недоотпуск\n",
    "df_TSO['powerhour'] = dfcop.groupby('name_TSO')['powerhour'].sum()\n",
    "\n",
    "# Количество отключений / количество точек поствки\n",
    "df_TSO['shotdown_count/max_points'] = df_TSO['shotdown_count'] / df_TSO['max_points']\n",
    "\n",
    "# Суммарная продолжительность отключений / количество точек поствки\n",
    "df_TSO['sum_duration_hour/max_points'] = df_TSO['sum_duration_hour'] / df_TSO['max_points']\n",
    "\n",
    "# Суммарный недоотпуск / количество точек поствки\n",
    "df_TSO['powhour/max_points'] = df_TSO['powerhour'] / df_TSO['max_points']"
   ]
  },
  {
   "cell_type": "code",
   "execution_count": 223,
   "metadata": {},
   "outputs": [],
   "source": [
    "df_TSO = df_TSO.reset_index()"
   ]
  },
  {
   "cell_type": "code",
   "execution_count": 13,
   "metadata": {
    "scrolled": false
   },
   "outputs": [],
   "source": [
    "#df_TSO.sort_values('powerhour', ascending=False).head(2)"
   ]
  },
  {
   "cell_type": "code",
   "execution_count": 225,
   "metadata": {},
   "outputs": [],
   "source": [
    "df_TSO.sort_values('powerhour', ascending=False).to_excel(f'ТОПы{YEAR}/TOP_TSO.xlsx')"
   ]
  },
  {
   "cell_type": "markdown",
   "metadata": {},
   "source": [
    "### Распределение ТСО в регионах"
   ]
  },
  {
   "cell_type": "code",
   "execution_count": 226,
   "metadata": {},
   "outputs": [],
   "source": [
    "# Необходимо сделать рейтинги ТСО по каждому региону. Сохраним их как эксельки\n",
    "\n",
    "if not os.path.exists(f\"ТСО регионов{YEAR}\"):\n",
    "    os.mkdir(f\"ТСО регионов{YEAR}\")\n",
    "\n",
    "for reg in df_TSO['region'].unique():\n",
    "    df_TSO[df_TSO['region']==reg].sort_values('shotdown_count/max_points', ascending=False).to_excel(f'ТСО регионов{YEAR}/ТСО_{reg}.xlsx')"
   ]
  },
  {
   "cell_type": "markdown",
   "metadata": {},
   "source": [
    "### ТОП-20 оборудования по отключениям"
   ]
  },
  {
   "cell_type": "code",
   "execution_count": 227,
   "metadata": {},
   "outputs": [],
   "source": [
    "# Запилим также отдельный датафрейм для анализа отключаемости оборудования\n",
    "\n",
    "df_obj = pd.DataFrame()\n",
    "\n",
    "df_obj['name_TSO'] = dfcop.groupby('object_name')['name_TSO'].first()\n",
    "\n",
    "df_obj['region'] = dfcop.groupby('object_name')['region'].first()\n",
    "\n",
    "df_obj['year'] = dfcop.groupby('object_name')['year'].first()\n",
    "\n",
    "df_obj['id_region'] = dfcop.groupby('object_name')['id_region'].mean().astype(int)\n",
    "\n",
    "df_obj['sum_power'] = dfcop.groupby('object_name')['total_amount_capacity'].sum()\n",
    "\n",
    "df_obj['powerhour'] = dfcop.groupby('object_name')['powerhour'].sum()\n",
    "\n",
    "df_obj['sum_duration_hour'] = dfcop.groupby('object_name')['duration_hour'].sum()\n",
    "\n",
    "#df_obj['mean_duration_hour'] = df.groupby('object_name')['duration_hour'].mean()\n",
    "\n",
    "df_obj['shotdown_count'] = dfcop.groupby('object_name')['duration_hour'].count()\n",
    "\n",
    "#df_obj['mean_capacity'] = df.groupby('object_name')['total_amount_capacity'].mean()\n",
    "\n",
    "df_obj['mean_duration_hour'] = df_obj['sum_duration_hour'] / df_obj['shotdown_count']"
   ]
  },
  {
   "cell_type": "markdown",
   "metadata": {},
   "source": [
    "# Анализ по ТСО-шкам"
   ]
  },
  {
   "cell_type": "markdown",
   "metadata": {},
   "source": [
    "## ТСО отлючения по времени / дням / месяцам"
   ]
  },
  {
   "cell_type": "code",
   "execution_count": 231,
   "metadata": {},
   "outputs": [
    {
     "data": {
      "text/plain": [
       "Index(['year', 'month', 'id_TSO', 'name_TSO', 'id_region', 'region', 'id_FO',\n",
       "       'FO', 'org_type_TSO', 'name_unit', 'object_type', 'object_name',\n",
       "       'max_voltage', 'time_start', 'time_finish', 'duration_hour',\n",
       "       'number_delivery_points', 'total_amount_capacity', 'code_org_reason',\n",
       "       'code_tech_reason', 'max_points', 'powerhour', 'powhour_per_points',\n",
       "       'dayofweek', 'start_hour'],\n",
       "      dtype='object')"
      ]
     },
     "execution_count": 231,
     "metadata": {},
     "output_type": "execute_result"
    }
   ],
   "source": [
    "dfcop.columns"
   ]
  },
  {
   "cell_type": "markdown",
   "metadata": {},
   "source": [
    "#### Функции для визаулу анализа ТСО"
   ]
  },
  {
   "cell_type": "code",
   "execution_count": 232,
   "metadata": {},
   "outputs": [],
   "source": [
    "# Какое оборудование отключается чаще всего\n",
    "\n",
    "def TSO_object_name(TSO):\n",
    "    fig3 = plt.figure(figsize=(14,7))\n",
    "    sns.set(rc={'figure.figsize':(8,10)})\n",
    "\n",
    "    ax_1 = fig3.add_subplot(1, 2, 1)\n",
    "\n",
    "    sns.barplot(y=dfcop[dfcop['name_TSO'] == TSO]['object_name'].value_counts().index[:20], \n",
    "                x=dfcop[dfcop['name_TSO'] == TSO]['object_name'].value_counts().values[:20],\n",
    "               color = 'g',\n",
    "               orient='h', ax=ax_1, alpha=.8,)\n",
    "    ax_1.set_title(f'Распределение оборудования по отключениям',fontsize=15)\n",
    "    \n",
    "    ax_2 = fig3.add_subplot(1, 2, 2)\n",
    "\n",
    "    sns.barplot(y=dfcop[dfcop['name_TSO'] == TSO].groupby('object_name')['powerhour'].sum().sort_values(ascending=False).index[:20], \n",
    "                x=dfcop[dfcop['name_TSO'] == TSO].groupby('object_name')['powerhour'].sum().sort_values(ascending=False).values[:20],\n",
    "               color = 'r',\n",
    "               orient='h', ax=ax_2, alpha=.8,)\n",
    "    ax_2.set_title(f'Распределение оборудования по недоотпуску ЭЭ',fontsize=15)\n",
    "    \n",
    "    fig3.tight_layout()\n",
    "#    fig3.set_figwidth(20)\n",
    "#    fig3.set_figheight(10)\n",
    "#    fig3.savefig(f'Распределение оборудования по отключениям в {TSO}')\n",
    "#    plt.show()\n",
    "    return fig3"
   ]
  },
  {
   "cell_type": "code",
   "execution_count": 233,
   "metadata": {},
   "outputs": [],
   "source": [
    "# Отключения во времени - время суток, дни недели, месяца\n",
    "def TSO_stat_by_time(TSO):\n",
    "    fig2 = plt.figure()\n",
    "    plt.subplots_adjust(wspace=0, hspace=0.3)\n",
    "\n",
    "    ax_1 = fig2.add_subplot(2, 1, 1)\n",
    "    ax_2 = fig2.add_subplot(2, 1, 2)\n",
    "\n",
    "    sns.set(rc={'figure.figsize':(15,4)})\n",
    "    sns.heatmap(pd.pivot_table(dfcop[dfcop['name_TSO'] == TSO], \n",
    "                               values='month', \n",
    "                               index=['dayofweek'],\n",
    "                               columns=['start_hour'], \n",
    "                               aggfunc='count',\n",
    "                              ), annot=True,fmt='g',cbar=False, ax=ax_1)\n",
    "\n",
    "    sns.set(rc={'figure.figsize':(8,4)})\n",
    "    sns.barplot(x=dfcop[dfcop['name_TSO'] == TSO]['month'].value_counts().index, \n",
    "                y=dfcop[dfcop['name_TSO'] == TSO]['month'].value_counts().values,\n",
    "               color = 'b', ax=ax_2\n",
    "               )\n",
    "\n",
    "    ax_1.set_title(f'Распределение отключений по времени суток и дням недели',\n",
    "                   fontsize=15)\n",
    "    ax_2.set_title(f'\\n Распределение отключений по месяцам',\n",
    "                   fontsize=15)\n",
    "\n",
    "    fig2.set_figwidth(15)\n",
    "    fig2.set_figheight(10)\n",
    "    \n",
    "    fig2.tight_layout()\n",
    "#     fig2.savefig(f'Отключения в {TSO}')\n",
    "\n",
    "#     plt.show()\n",
    "    return fig2"
   ]
  },
  {
   "cell_type": "markdown",
   "metadata": {},
   "source": [
    "## Проверка на \"одинаковость\" наименований"
   ]
  },
  {
   "cell_type": "code",
   "execution_count": 286,
   "metadata": {},
   "outputs": [],
   "source": [
    "import difflib\n",
    "\n",
    "# Функция проверки \"одинаковости\" строки\n",
    "def similarity(s1, s2):\n",
    "  normalized1 = s1.lower()\n",
    "  normalized2 = s2.lower()\n",
    "  matcher = difflib.SequenceMatcher(None, normalized1, normalized2)\n",
    "  return matcher.ratio()"
   ]
  },
  {
   "cell_type": "markdown",
   "metadata": {},
   "source": [
    "# Анализ по субъектам РФ"
   ]
  },
  {
   "cell_type": "code",
   "execution_count": 234,
   "metadata": {},
   "outputs": [
    {
     "data": {
      "text/plain": [
       "Index(['year', 'month', 'id_TSO', 'name_TSO', 'id_region', 'region', 'id_FO',\n",
       "       'FO', 'org_type_TSO', 'name_unit', 'object_type', 'object_name',\n",
       "       'max_voltage', 'time_start', 'time_finish', 'duration_hour',\n",
       "       'number_delivery_points', 'total_amount_capacity', 'code_org_reason',\n",
       "       'code_tech_reason', 'max_points', 'powerhour', 'powhour_per_points',\n",
       "       'dayofweek', 'start_hour'],\n",
       "      dtype='object')"
      ]
     },
     "execution_count": 234,
     "metadata": {},
     "output_type": "execute_result"
    }
   ],
   "source": [
    "dfcop.columns"
   ]
  },
  {
   "cell_type": "markdown",
   "metadata": {},
   "source": [
    "### heatmap по недоотпуску"
   ]
  },
  {
   "cell_type": "code",
   "execution_count": 235,
   "metadata": {},
   "outputs": [],
   "source": [
    "if not os.path.exists(\"Heatmap регионов\"):\n",
    "    os.mkdir(\"Heatmap регионов\")"
   ]
  },
  {
   "cell_type": "code",
   "execution_count": 15,
   "metadata": {},
   "outputs": [],
   "source": [
    "# fig_h3 = plt.figure(figsize=(12,22), dpi= 100)\n",
    "\n",
    "# ax_h3 = fig_h3.add_subplot(1, 1, 1)\n",
    "\n",
    "# sns.heatmap(dfcop.pivot_table(\n",
    "#     index='region', \n",
    "#     columns='month', \n",
    "#     values='powerhour', \n",
    "#     aggfunc=sum), \n",
    "#             annot=True, fmt='.0f', annot_kws={'fontsize':12}, cmap='Reds', linewidths=1, ax=ax_h3)\n",
    "\n",
    "\n",
    "\n",
    "# ax_h3.set_title(f'Недоотпуск э/э по регионам помесячно, тыс. кВт*час',fontsize=15)\n",
    "\n",
    "\n",
    "# fig_h3.savefig(f'Heatmap регионов/Недоотпуск_по_регионам_помесячно')\n",
    "# plt.show()"
   ]
  },
  {
   "cell_type": "markdown",
   "metadata": {},
   "source": [
    "### heatmap по количеству отключений"
   ]
  },
  {
   "cell_type": "code",
   "execution_count": 16,
   "metadata": {
    "scrolled": false
   },
   "outputs": [],
   "source": [
    "# fig_h4 = plt.figure(figsize=(12,22), dpi= 100)\n",
    "# #sns.set(rc={'figure.figsize':(16,56)})\n",
    "\n",
    "# ax_h4 = fig_h4.add_subplot(1, 1, 1)\n",
    "\n",
    "# sns.heatmap(dfcop.pivot_table(\n",
    "#     index='region', \n",
    "#     columns='month', \n",
    "#     values='powerhour', \n",
    "#     aggfunc='count'), \n",
    "#             annot=True, fmt='.0f', annot_kws={'fontsize':12}, cmap='Reds', linewidths=1, ax=ax_h4)\n",
    "\n",
    "\n",
    "\n",
    "# ax_h4.set_title(f'Количество отключений ЭЭ в месяц, шт.',fontsize=15)\n",
    "\n",
    "# fig_h4.set_figwidth(10)\n",
    "# fig_h4.set_figheight(25)\n",
    "# fig_h4.savefig(f'Heatmap регионов/Количество_отключений_помесячно')\n",
    "# plt.show()"
   ]
  },
  {
   "cell_type": "code",
   "execution_count": 238,
   "metadata": {},
   "outputs": [
    {
     "data": {
      "text/plain": [
       "Index(['region', 'id_region', 'year', 'shotdown_count', 'sum_power',\n",
       "       'powerhour', 'powhour/acc', 'sum_duration_hour', 'duration/acc',\n",
       "       'population_2020', 'shotdown/pop*1000', 'powhour/pop',\n",
       "       'duration/pop*100'],\n",
       "      dtype='object')"
      ]
     },
     "execution_count": 238,
     "metadata": {},
     "output_type": "execute_result"
    }
   ],
   "source": [
    "df_region.columns"
   ]
  },
  {
   "cell_type": "markdown",
   "metadata": {},
   "source": [
    "## Кластеризация"
   ]
  },
  {
   "cell_type": "markdown",
   "metadata": {},
   "source": [
    "Проведем кластеризацию регионов по относительным признакам"
   ]
  },
  {
   "cell_type": "code",
   "execution_count": 239,
   "metadata": {},
   "outputs": [],
   "source": [
    "df_region_clstr = df_region[['shotdown/pop*1000','powhour/pop']]\n",
    "\n",
    "df_region_clstr = StandardScaler().fit_transform(df_region_clstr)"
   ]
  },
  {
   "cell_type": "markdown",
   "metadata": {},
   "source": [
    "#### KMean"
   ]
  },
  {
   "cell_type": "code",
   "execution_count": 240,
   "metadata": {},
   "outputs": [
    {
     "data": {
      "text/plain": [
       "{0: 72, 1: 4, 2: 6}"
      ]
     },
     "execution_count": 240,
     "metadata": {},
     "output_type": "execute_result"
    }
   ],
   "source": [
    "# возьмем 3 кластера\n",
    "kmeans = KMeans(n_clusters=3, random_state=42)\n",
    "kmeans.fit(df_region_clstr)\n",
    "kmeans_pred_best = kmeans.labels_\n",
    "\n",
    "unique, counts = np.unique(kmeans_pred_best, return_counts=True)\n",
    "dict(zip(unique, counts))"
   ]
  },
  {
   "cell_type": "markdown",
   "metadata": {},
   "source": [
    "#### DBSCAN"
   ]
  },
  {
   "cell_type": "code",
   "execution_count": 241,
   "metadata": {},
   "outputs": [
    {
     "data": {
      "text/plain": [
       "{-1: 12, 0: 70}"
      ]
     },
     "execution_count": 241,
     "metadata": {},
     "output_type": "execute_result"
    }
   ],
   "source": [
    "dbscan = DBSCAN()\n",
    "\n",
    "dbscan.fit(df_region_clstr)\n",
    "unique, counts = np.unique(dbscan.labels_, return_counts=True)\n",
    "dict(zip(unique, counts))"
   ]
  },
  {
   "cell_type": "code",
   "execution_count": 242,
   "metadata": {},
   "outputs": [],
   "source": [
    "# Доавим лэйблы по итогам кластеризации\n",
    "df_region['label_km'] = kmeans.labels_\n",
    "df_region['label_db'] = dbscan.labels_"
   ]
  },
  {
   "cell_type": "markdown",
   "metadata": {},
   "source": [
    "#### График Scatter на 1 чел"
   ]
  },
  {
   "cell_type": "code",
   "execution_count": 243,
   "metadata": {},
   "outputs": [
    {
     "data": {
      "text/plain": [
       "Index(['region', 'id_region', 'year', 'shotdown_count', 'sum_power',\n",
       "       'powerhour', 'powhour/acc', 'sum_duration_hour', 'duration/acc',\n",
       "       'population_2020', 'shotdown/pop*1000', 'powhour/pop',\n",
       "       'duration/pop*100', 'label_km', 'label_db'],\n",
       "      dtype='object')"
      ]
     },
     "execution_count": 243,
     "metadata": {},
     "output_type": "execute_result"
    }
   ],
   "source": [
    "df_region.columns"
   ]
  },
  {
   "cell_type": "code",
   "execution_count": 244,
   "metadata": {},
   "outputs": [],
   "source": [
    "import plotly.express as px"
   ]
  },
  {
   "cell_type": "code",
   "execution_count": 245,
   "metadata": {},
   "outputs": [],
   "source": [
    "df_region[\"label_km\"] = df_region[\"label_km\"].astype(str)"
   ]
  },
  {
   "cell_type": "code",
   "execution_count": 246,
   "metadata": {},
   "outputs": [],
   "source": [
    "if not os.path.exists('Scatter регионов и ТСО'):\n",
    "    os.mkdir('Scatter регионов и ТСО')"
   ]
  },
  {
   "cell_type": "code",
   "execution_count": 17,
   "metadata": {
    "scrolled": true
   },
   "outputs": [],
   "source": [
    "# fig = px.scatter(df_region, \n",
    "#                  x=\"shotdown/pop*1000\", \n",
    "#                  y=\"powhour/pop\", \n",
    "#                  color=\"label_km\",\n",
    "#                  hover_data=['region'], title=\"Отключения электроэнергии в регионах РФ в 2020 году\",\n",
    "#                 size='duration/pop*100',\n",
    "#                  labels={\n",
    "#                      \"shotdown/pop*1000\": \"Количество отключений на 1 чел.\",\n",
    "#                      \"powhour/pop\": \"Недоотпуск электроэнергии на 1 чел.\",\n",
    "#                  })\n",
    "\n",
    "# fig.write_image(\"Scatter регионов и ТСО/Scatter_регионы_по_населению.pdf\")\n",
    "# fig.show()"
   ]
  },
  {
   "cell_type": "code",
   "execution_count": 18,
   "metadata": {},
   "outputs": [],
   "source": [
    "# #Регионы из зеленой зоны:\n",
    "\n",
    "# # Регионы из группы 1 - наибольшие величины недоотпуска ЭЭ на 1 человека\n",
    "# print('Регионы из зеленой зоны')\n",
    "# print(list(df_region[df_region['label_km']=='1']['region']))\n",
    "# print('-'*20)\n",
    "# #Регионы из красной зоны:\n",
    "\n",
    "# # Регионы из группы 2 - наибольшее количество отклчений на 1 человека\n",
    "# print('Регионы из красной зоны')\n",
    "# print(list(df_region[df_region['label_km']=='2']['region']))"
   ]
  },
  {
   "cell_type": "markdown",
   "metadata": {},
   "source": [
    "Исходя из анализа регионов из зеленых и красных кластеров по абсолютным и относительным величинам, их можно объединить по территориальному признаку:\n",
    "\n",
    "1. ДФО - \n",
    "\n",
    "2. ЮФО - \n",
    "\n",
    "3. СКФО - \n",
    "\n",
    "4. ПФО, УФО - "
   ]
  },
  {
   "cell_type": "markdown",
   "metadata": {},
   "source": [
    "# Исследование ключевых ТСО"
   ]
  },
  {
   "cell_type": "markdown",
   "metadata": {},
   "source": [
    "Прежде всего сделаем новый датасет, где оставим только ТСО с кол-вом точек поставки больше 1000"
   ]
  },
  {
   "cell_type": "code",
   "execution_count": 250,
   "metadata": {},
   "outputs": [],
   "source": [
    "df_TSO_short = df_TSO[df_TSO['max_points']>999]"
   ]
  },
  {
   "cell_type": "code",
   "execution_count": 19,
   "metadata": {},
   "outputs": [],
   "source": [
    "# print('Общее количество ТСО = ',df_TSO.shape[0])\n",
    "# print('Количество ТСО от 1000 точек поставки= ',df_TSO_short.shape[0])"
   ]
  },
  {
   "cell_type": "markdown",
   "metadata": {},
   "source": [
    "#### Scatter по всем ТСО с нормировкой на кол-во точек поставки"
   ]
  },
  {
   "cell_type": "code",
   "execution_count": 252,
   "metadata": {},
   "outputs": [
    {
     "data": {
      "text/plain": [
       "Index(['name_TSO', 'region', 'id_region', 'year', 'max_points',\n",
       "       'shotdown_count', 'sum_duration_hour', 'sum_power', 'powerhour',\n",
       "       'shotdown_count/max_points', 'sum_duration_hour/max_points',\n",
       "       'powhour/max_points'],\n",
       "      dtype='object')"
      ]
     },
     "execution_count": 252,
     "metadata": {},
     "output_type": "execute_result"
    }
   ],
   "source": [
    "df_TSO_short.columns"
   ]
  },
  {
   "cell_type": "markdown",
   "metadata": {},
   "source": [
    "Сперва забахаем кластеризацию"
   ]
  },
  {
   "cell_type": "code",
   "execution_count": 253,
   "metadata": {},
   "outputs": [],
   "source": [
    "\n",
    "df_TSO_clstr = df_TSO_short[['shotdown_count/max_points','powhour/max_points']]\n",
    "\n",
    "df_TSO_clstr = StandardScaler().fit_transform(df_TSO_clstr)"
   ]
  },
  {
   "cell_type": "code",
   "execution_count": 254,
   "metadata": {},
   "outputs": [
    {
     "data": {
      "text/plain": [
       "{-1: 13, 0: 563}"
      ]
     },
     "execution_count": 254,
     "metadata": {},
     "output_type": "execute_result"
    }
   ],
   "source": [
    "dbscan_2 = DBSCAN()\n",
    "\n",
    "dbscan_2.fit(df_TSO_clstr)\n",
    "unique, counts = np.unique(dbscan_2.labels_, return_counts=True)\n",
    "dict(zip(unique, counts))"
   ]
  },
  {
   "cell_type": "code",
   "execution_count": 255,
   "metadata": {},
   "outputs": [
    {
     "data": {
      "text/plain": [
       "{0: 543, 1: 1, 2: 32}"
      ]
     },
     "execution_count": 255,
     "metadata": {},
     "output_type": "execute_result"
    }
   ],
   "source": [
    "kmeans_2 = KMeans(n_clusters=3, random_state=42)\n",
    "kmeans_2.fit(df_TSO_clstr)\n",
    "kmeans_pred_best_2 = kmeans_2.labels_\n",
    "\n",
    "unique, counts = np.unique(kmeans_pred_best_2, return_counts=True)\n",
    "dict(zip(unique, counts))"
   ]
  },
  {
   "cell_type": "code",
   "execution_count": 256,
   "metadata": {},
   "outputs": [
    {
     "name": "stderr",
     "output_type": "stream",
     "text": [
      "/Users/denisenko/opt/anaconda3/lib/python3.7/site-packages/ipykernel_launcher.py:1: SettingWithCopyWarning:\n",
      "\n",
      "\n",
      "A value is trying to be set on a copy of a slice from a DataFrame.\n",
      "Try using .loc[row_indexer,col_indexer] = value instead\n",
      "\n",
      "See the caveats in the documentation: https://pandas.pydata.org/pandas-docs/stable/user_guide/indexing.html#returning-a-view-versus-a-copy\n",
      "\n",
      "/Users/denisenko/opt/anaconda3/lib/python3.7/site-packages/ipykernel_launcher.py:2: SettingWithCopyWarning:\n",
      "\n",
      "\n",
      "A value is trying to be set on a copy of a slice from a DataFrame.\n",
      "Try using .loc[row_indexer,col_indexer] = value instead\n",
      "\n",
      "See the caveats in the documentation: https://pandas.pydata.org/pandas-docs/stable/user_guide/indexing.html#returning-a-view-versus-a-copy\n",
      "\n"
     ]
    }
   ],
   "source": [
    "df_TSO_short['label_db'] = dbscan_2.labels_\n",
    "df_TSO_short['label_km'] = kmeans_2.labels_"
   ]
  },
  {
   "cell_type": "code",
   "execution_count": 20,
   "metadata": {
    "scrolled": true
   },
   "outputs": [],
   "source": [
    "# fig = px.scatter(df_TSO_short, \n",
    "#                  x=\"shotdown_count/max_points\", \n",
    "#                  y=\"powhour/max_points\",\n",
    "#                  size='sum_duration_hour/max_points',\n",
    "#                  color='label_db',\n",
    "#                  hover_data=['name_TSO'], title=\"Распределение ТСО по недоотпуску и количеству отключений на 1 точку поставки\",\n",
    "#                  width=1000, height=600,\n",
    "#                  labels={\n",
    "#                      \"shotdown_count/max_points\": \"Количество отключений на 1 точку поставки\",\n",
    "#                      \"powhour/max_points\": \"Недоотпуск электроэнергии на 1 точку поставки\",\n",
    "#                  })\n",
    "\n",
    "\n",
    "# fig.write_image(\"Scatter регионов и ТСО/Scatter_ТСО_отн_показатели.pdf\")\n",
    "# fig.show()"
   ]
  },
  {
   "cell_type": "code",
   "execution_count": 258,
   "metadata": {},
   "outputs": [],
   "source": [
    "# ТСО, которые попали в выбросы\n",
    "#df_TSO_short[df_TSO_short['label_db']!=0].to_excel('Худшие_ТСО.xlsx')"
   ]
  },
  {
   "cell_type": "markdown",
   "metadata": {},
   "source": [
    "### Анализ ТСО по функциям"
   ]
  },
  {
   "cell_type": "code",
   "execution_count": 259,
   "metadata": {},
   "outputs": [],
   "source": [
    "# for tso in list(df_terget_TSO['name_TSO'].unique()):\n",
    "#     TSO_stat_by_time(tso)\n",
    "#     TSO_object_name(tso)"
   ]
  },
  {
   "cell_type": "code",
   "execution_count": 21,
   "metadata": {},
   "outputs": [],
   "source": [
    "# dfcop[dfcop['region']=='Псковская']['name_TSO'].unique()"
   ]
  },
  {
   "cell_type": "code",
   "execution_count": 261,
   "metadata": {},
   "outputs": [],
   "source": [
    "psc1, psc2, psc3 = list(dfcop[dfcop['region']=='Псковская']['name_TSO'].unique())"
   ]
  },
  {
   "cell_type": "code",
   "execution_count": 262,
   "metadata": {},
   "outputs": [],
   "source": [
    "TSO_1 = 'ОАО \"РЖД\" - СП \"Трансэнерго\" - Куйбышевская дирекция по энергообеспечению (Самарская обл)'\n",
    "TSO_2 = 'ОАО \"РЖД\" - СП \"Трансэнерго\" - Куйбышевская дирекция по энергообеспечению'\n",
    "TSO_3 = 'Общество с ограниченной ответственностью \"Объединённые региональные электрические сети Карелии\" (ООО \"ОРЭС-Карелия\")'\n",
    "TSO_4 = 'ООО Ноябрьскэнергонефть'"
   ]
  },
  {
   "cell_type": "code",
   "execution_count": 264,
   "metadata": {},
   "outputs": [
    {
     "data": {
      "text/plain": [
       "Index(['year', 'month', 'id_TSO', 'name_TSO', 'id_region', 'region', 'id_FO',\n",
       "       'FO', 'org_type_TSO', 'name_unit', 'object_type', 'object_name',\n",
       "       'max_voltage', 'time_start', 'time_finish', 'duration_hour',\n",
       "       'number_delivery_points', 'total_amount_capacity', 'code_org_reason',\n",
       "       'code_tech_reason', 'max_points', 'powerhour', 'powhour_per_points',\n",
       "       'dayofweek', 'start_hour'],\n",
       "      dtype='object')"
      ]
     },
     "execution_count": 264,
     "metadata": {},
     "output_type": "execute_result"
    }
   ],
   "source": [
    "dfcop.columns"
   ]
  },
  {
   "cell_type": "markdown",
   "metadata": {},
   "source": [
    "#### Причины аварий организационные и технические"
   ]
  },
  {
   "cell_type": "code",
   "execution_count": 265,
   "metadata": {},
   "outputs": [],
   "source": [
    "# Копия общей таблицы аварий\n",
    "dfcop_dumm = dfcop.copy().reset_index(drop=True)\n",
    "\n",
    "# Общие думмисы\n",
    "tech_dumm = dfcop_dumm['code_tech_reason'].apply(lambda x: x.replace('0','').replace(' ','')).str.get_dummies(sep=',').reset_index(drop=True)\n",
    "org_dumm = dfcop_dumm['code_org_reason'].apply(lambda x: x.replace('0','').replace(' ','')).str.get_dummies(sep=',').reset_index(drop=True)"
   ]
  },
  {
   "cell_type": "code",
   "execution_count": 22,
   "metadata": {},
   "outputs": [],
   "source": [
    "# print(tech_dumm.shape)\n",
    "# print(org_dumm.shape)"
   ]
  },
  {
   "cell_type": "code",
   "execution_count": 268,
   "metadata": {},
   "outputs": [],
   "source": [
    "# Разделим наименование nan-колонок\n",
    "tech_dumm = tech_dumm.rename(columns={'nan':'nan_tech'})\n",
    "org_dumm = org_dumm.rename(columns={'nan':'nan_org'})"
   ]
  },
  {
   "cell_type": "code",
   "execution_count": 269,
   "metadata": {},
   "outputs": [],
   "source": [
    "# конкатинируем общую таблицу и думмисы\n",
    "dfcop_dumm = pd.concat([dfcop_dumm,tech_dumm],axis=1)\n",
    "dfcop_dumm = pd.concat([dfcop_dumm,org_dumm],axis=1)"
   ]
  },
  {
   "cell_type": "code",
   "execution_count": 23,
   "metadata": {},
   "outputs": [],
   "source": [
    "#dfcop_dumm.shape"
   ]
  },
  {
   "cell_type": "code",
   "execution_count": 271,
   "metadata": {
    "scrolled": true
   },
   "outputs": [
    {
     "data": {
      "text/plain": [
       "Index(['year', 'month', 'id_TSO', 'name_TSO', 'id_region', 'region', 'id_FO',\n",
       "       'FO', 'org_type_TSO', 'name_unit', 'object_type', 'object_name',\n",
       "       'max_voltage', 'time_start', 'time_finish', 'duration_hour',\n",
       "       'number_delivery_points', 'total_amount_capacity', 'code_org_reason',\n",
       "       'code_tech_reason', 'max_points', 'powerhour', 'powhour_per_points',\n",
       "       'dayofweek', 'start_hour', '4.1', '4.11', '4.12', '4.13', '4.14',\n",
       "       '4.15', '4.16', '4.17', '4.18', '4.19', '4.2', '4.21', '4.3', '4.4',\n",
       "       '4.5', '4.6', '4.7', '4.8', '4.9', 'nan_tech', '3.4.1', '3.4.11',\n",
       "       '3.4.12', '3.4.12.1', '3.4.12.2', '3.4.12.3', '3.4.12.4', '3.4.12.5',\n",
       "       '3.4.13', '3.4.13.1', '3.4.13.2', '3.4.13.3', '3.4.13.4', '3.4.14',\n",
       "       '3.4.2', '3.4.3', '3.4.4', '3.4.5', '3.4.6', '3.4.7', '3.4.7.1',\n",
       "       '3.4.7.2', '3.4.7.3', '3.4.7.4', '3.4.8', '3.4.8.1', '3.4.8.2',\n",
       "       '3.4.8.3', '3.4.8.4', '3.4.8.5', '3.4.9', '3.4.9.1', '3.4.9.2',\n",
       "       '3.4.9.3', 'nan_org'],\n",
       "      dtype='object')"
      ]
     },
     "execution_count": 271,
     "metadata": {},
     "output_type": "execute_result"
    }
   ],
   "source": [
    "dfcop_dumm.columns"
   ]
  },
  {
   "cell_type": "markdown",
   "metadata": {},
   "source": [
    "### Причины аварий для регионов РФ"
   ]
  },
  {
   "cell_type": "code",
   "execution_count": 272,
   "metadata": {},
   "outputs": [],
   "source": [
    "# Словарь кодов причин\n",
    "\n",
    "dict_reason = {'4.1':'4.1 Нарушение структуры материала', \n",
    "               '4.11':'4.11 Электродуговое повреждение', \n",
    "               '4.12':'4.12 Нарушение электрической изоляции', \n",
    "               '4.13':'4.13 Нарушение эл.контакта, размыкание, обрыв цепи', \n",
    "               '4.14':'4.14 Механическое разрушение ', \n",
    "               '4.15':'4.15 Разрушение фундамента', \n",
    "               '4.16':'4.16 Исчерпание ресурса',\n",
    "               '4.17':'4.17 Загрязнение, попадание инородных предметов', \n",
    "               '4.18':'4.18 Дефект сварного соединения (шва)', \n",
    "               '4.19':'4.19 Повышение давления, гидравлический удар', \n",
    "               '4.2':'4.2 Механический износ, неудовл. смазка', \n",
    "               '4.21':'4.21 Невыявленные причины', \n",
    "               '4.3':'4.3 Нарушение механического соединения', \n",
    "               '4.4':'4.4 Внешнее механическое воздействие', \n",
    "               '4.5':'4.5 Золовой износ', \n",
    "               '4.6':'4.6 Коррозионный, эрозионный износ',\n",
    "               '4.7':'4.7 Нарушение герметичности', \n",
    "               '4.8':'4.8 Нарушение нормального вибросостояния', \n",
    "               '4.9':'4.9 Взрыв, загорание, пожар',\n",
    "               '3.4.1':'3.4.1 Ошибочные действия опер/дисп персонала', \n",
    "               '3.4.11':'3.4.11 Превышение параметров воздействия стихийных явлений относительно проекта', \n",
    "               '3.4.12':'3.4.12 Воздействие повторяющихся стихийных явлений',\n",
    "               '3.4.12.1':'3.4.12.1 Гололедно-изморозевые отложения', \n",
    "               '3.4.12.2':'3.4.12.2 Ветровые нагрузки', \n",
    "               '3.4.12.3':'3.4.12.3 Атмосферные перенапряжения (гроза)', \n",
    "               '3.4.12.4':'3.4.12.4 Природные пожары', \n",
    "               '3.4.12.5':'3.4.12.5 Прочие воздействия неблагоприятных природных явлений', \n",
    "               '3.4.13':'3.4.13 Дефекты проекта, конструкции, изготовления, монтажа',\n",
    "               '3.4.13.1':'3.4.13.1 Недостатки проекта', \n",
    "               '3.4.13.2':'3.4.13.2 Недостатки конструкции', \n",
    "               '3.4.13.3':'3.4.13.3 Дефекты изготовления', \n",
    "               '3.4.13.4':'3.4.13.4 Дефекты монтажа', \n",
    "               '3.4.14':'3.4.14 Невыявленные причины', \n",
    "               '3.4.2':'3.4.2 Ошибочные действия персонала служб организации',\n",
    "               '3.4.3':'3.4.3 Ошибочные действия привлеченного по договору персонала', \n",
    "               '3.4.4':'3.4.4 Ошибочные действия собственного ремон./налад. персонала организации', \n",
    "               '3.4.5':'3.4.5 Ошибочные действия руководящего персонала', \n",
    "               '3.4.6':'3.4.6 Неудовлетворительное качество инструкций, документов организации', \n",
    "               '3.4.7':'3.4.7 Несоблюдение сроков/объемов ТО или ремонта оборудования и устройств', \n",
    "               '3.4.7.1':'3.4.7.1 Несоблюдение сроков ТО и ремонта оборудования, устройств', \n",
    "               '3.4.7.2':'3.4.7.2 Несоблюдение объемов ТО и ремонта оборудования, устройств',\n",
    "               '3.4.7.3':'3.4.7.3 Несвоевременное выявление и устранение дефектов', \n",
    "               '3.4.7.4':'3.4.7.4 Прочие нарушения', \n",
    "               '3.4.8':'3.4.8 Воздействие посторонних лиц и организаций', \n",
    "               '3.4.8.1':'3.4.8.1 Несанкционированные работы в охранных зонах объектов ЭХ', \n",
    "               '3.4.8.2':'3.4.8.2 Проезд крупногабаритной техники', \n",
    "               '3.4.8.3':'3.4.8.3 Несанкционированная рубка лесных насаждений',\n",
    "               '3.4.8.4':'3.4.8.4 Наброс посторонних предметов на ВЛ', \n",
    "               '3.4.8.5':'3.4.8.5 Прочие воздействия', \n",
    "               '3.4.9':'3.4.9 Воздействие организаций, участвующих в технологическом процессе', \n",
    "               '3.4.9.1':'3.4.9.1 Отключение оборудования в смежной электрической сети', \n",
    "               '3.4.9.2':'3.4.9.2 Отключение оборудования на объекте генерации', \n",
    "               '3.4.9.3':'3.4.9.3 Отключение оборудования потребителей электрической энергии',\n",
    "               'nan_tech':'тех. причина не указана',\n",
    "               'nan_org':'орг. причина не указана'\n",
    "\n",
    "}"
   ]
  },
  {
   "cell_type": "code",
   "execution_count": 273,
   "metadata": {},
   "outputs": [],
   "source": [
    "# DF - Технические причины аварий\n",
    "reg_tech_reason = dfcop_dumm.groupby(['region'])[tech_dumm.columns].sum()\n",
    "\n",
    "# DF - Организационные причины аварий\n",
    "reg_org_reason = dfcop_dumm.groupby(['region'])[org_dumm.columns].sum()\n"
   ]
  },
  {
   "cell_type": "code",
   "execution_count": 274,
   "metadata": {},
   "outputs": [],
   "source": [
    "# переименуем колонки, чтоб было красиво\n",
    "reg_org_reason.columns = reg_org_reason.columns.map(dict_reason)\n",
    "reg_tech_reason.columns = reg_tech_reason.columns.map(dict_reason)\n"
   ]
  },
  {
   "cell_type": "code",
   "execution_count": 275,
   "metadata": {},
   "outputs": [],
   "source": [
    "from plotly.subplots import make_subplots\n",
    "import plotly.graph_objects as go\n",
    "import plotly.io as pio"
   ]
  },
  {
   "cell_type": "code",
   "execution_count": 276,
   "metadata": {},
   "outputs": [],
   "source": [
    "\n",
    "if not os.path.exists(f\"ТОП причин аварий по регионам{YEAR}\"):\n",
    "    os.mkdir(f\"ТОП причин аварий по регионам{YEAR}\")"
   ]
  },
  {
   "cell_type": "code",
   "execution_count": 278,
   "metadata": {},
   "outputs": [],
   "source": [
    "reg_org_reason.to_excel(f'ТОП причин аварий по регионам{YEAR}/Эксель_орг_прич_авар_регионов_{YEAR}.xlsx')\n",
    "reg_tech_reason.to_excel(f'ТОП причин аварий по регионам{YEAR}/Эксель_тех_прич_авар_регионов_{YEAR}.xlsx')"
   ]
  },
  {
   "cell_type": "markdown",
   "metadata": {},
   "source": [
    "### Диаграмма распределения причин аварий для региона"
   ]
  },
  {
   "cell_type": "code",
   "execution_count": 279,
   "metadata": {},
   "outputs": [],
   "source": [
    "def graf_reg_reasons(region):\n",
    "    # Create subplots: use 'domain' type for Pie subplot\n",
    "    fig = make_subplots(rows=1, cols=2, specs=[[{'type':'domain'}, {'type':'domain'}]])\n",
    "\n",
    "    fig.add_trace(go.Pie(labels = reg_org_reason.loc[region].sort_values(ascending=False)[:5].index,\n",
    "                         values = reg_org_reason.loc[region].sort_values(ascending=False)[:5].values,\n",
    "                         name=\"Организационные причины\",\n",
    "                        title = 'Организационные',\n",
    "                        legendgroup=\"group1\"), 1, 1)\n",
    "    fig.add_trace(go.Pie(labels = reg_tech_reason.loc[region].sort_values(ascending=False)[:5].index,\n",
    "                         values = reg_tech_reason.loc[region].sort_values(ascending=False)[:5].values,\n",
    "                         name=\"Технические причины\",\n",
    "                        title = 'Технические',\n",
    "                        legendgroup=\"group2\"), 1, 2)\n",
    "\n",
    "    # Use `hole` to create a donut-like pie chart\n",
    "    fig.update_traces(hole=.55, hoverinfo=\"label+percent+name\", textinfo='percent+value')\n",
    "\n",
    "    fig.update_layout(\n",
    "        title_text=f\"ТОП-5 причин аварий: {region}\",\n",
    "        autosize=True,\n",
    "        margin=dict(l=0, r=0, t=50, b=0),\n",
    "        legend_orientation=\"h\",\n",
    "        legend=dict(x=.5, xanchor=\"center\", font=dict(size=8))\n",
    "\n",
    "        # Add annotations in the center of the donut pies.\n",
    "    )\n",
    "    #         annotations=[dict(text='Орг. причины', x=0.18, y=0.5, font_size=10, showarrow=False),\n",
    "    #                  dict(text='Тех. причины', x=0.82, y=0.5, font_size=10, showarrow=False)]\n",
    "\n",
    "#    fig.show()\n",
    "    pio.write_image(fig, f'ТОП причин аварий по регионам{YEAR}/ТОП причин аварий {region}.pdf')"
   ]
  },
  {
   "cell_type": "code",
   "execution_count": 331,
   "metadata": {},
   "outputs": [],
   "source": [
    "def graf_reg_reasons_bar(region):\n",
    "    \n",
    "    fig = make_subplots(rows=2, cols=1,)\n",
    "\n",
    "    fig.add_trace(go.Bar(y = reg_org_reason.loc[region].sort_values(ascending=False)[:5].index,\n",
    "                         x = reg_org_reason.loc[region].sort_values(ascending=False)[:5].values,\n",
    "                         text = reg_org_reason.loc[region].sort_values(ascending=False)[:5].values,\n",
    "                         name=\"Организационные причины\",\n",
    "                        orientation='h',\n",
    "                        legendgroup=\"group1\"), 1, 1)\n",
    "\n",
    "    fig.add_trace(go.Bar(y = reg_tech_reason.loc[region].sort_values(ascending=False)[:5].index,\n",
    "                         x = reg_tech_reason.loc[region].sort_values(ascending=False)[:5].values,\n",
    "                         text = reg_tech_reason.loc[region].sort_values(ascending=False)[:5].values,\n",
    "                         name=\"Технические причины\",\n",
    "                        orientation='h',\n",
    "                        legendgroup=\"group2\"), 2, 1)\n",
    "\n",
    "    # Use `hole` to create a donut-like pie chart\n",
    "    fig.update_traces(hoverinfo=\"text+name\", texttemplate='%{text}', textposition='inside')\n",
    "\n",
    "    fig.update_layout(\n",
    "        title_text=f\"ТОП-5 причин аварий: {region}\",\n",
    "        autosize=True,\n",
    "        margin=dict(l=0, r=0, t=50, b=0),\n",
    "        legend_orientation=\"h\",\n",
    "         uniformtext_mode='hide',\n",
    "        legend=dict(x=.5, xanchor=\"center\", font=dict(size=14)))\n",
    "\n",
    "    pio.write_image(fig, f'Данные_{YEAR}/ТОП причин аварий по регионам{YEAR}/ТОП_bar причин аварий {region}.pdf')"
   ]
  },
  {
   "cell_type": "code",
   "execution_count": 332,
   "metadata": {},
   "outputs": [],
   "source": [
    "for region in ['Калмыкия','Новгородская','Приморский','Самарская']:\n",
    "    graf_reg_reasons_bar(region)"
   ]
  },
  {
   "cell_type": "code",
   "execution_count": 24,
   "metadata": {
    "scrolled": true
   },
   "outputs": [],
   "source": [
    "# Сохраним графики для целевых регионов\n",
    "# for reg in []:\n",
    "#     graf_reg_reasons(reg)"
   ]
  },
  {
   "cell_type": "markdown",
   "metadata": {},
   "source": [
    "## ф-я Регионы статистика по времени и дням недели"
   ]
  },
  {
   "cell_type": "code",
   "execution_count": 334,
   "metadata": {},
   "outputs": [],
   "source": [
    "if not os.path.exists(\"Откл в рег по времени\"):\n",
    "    os.mkdir(\"Откл в рег по времени\")"
   ]
  },
  {
   "cell_type": "code",
   "execution_count": 337,
   "metadata": {},
   "outputs": [],
   "source": [
    "def graf_reg_stat_by_time(region):\n",
    "    fig2_reg = plt.figure()\n",
    "    plt.subplots_adjust(wspace=0, hspace=0.3)\n",
    "\n",
    "    ax_1 = fig2_reg.add_subplot(2, 1, 1)\n",
    "    ax_2 = fig2_reg.add_subplot(2, 1, 2)\n",
    "\n",
    "    sns.set(rc={'figure.figsize':(15,4)})\n",
    "    sns.heatmap(pd.pivot_table(dfcop[dfcop['region'] == region], \n",
    "                               values='month', \n",
    "                               index=['dayofweek'],\n",
    "                               columns=['start_hour'], \n",
    "                               aggfunc='count',\n",
    "                              ), annot=True,fmt='g',cbar=False, ax=ax_1)\n",
    "\n",
    "    sns.set(rc={'figure.figsize':(8,4)})\n",
    "    sns.barplot(x=dfcop[dfcop['region'] == region]['month'].value_counts().index, \n",
    "                y=dfcop[dfcop['region'] == region]['month'].value_counts().values,\n",
    "               color = 'b', ax=ax_2\n",
    "               )\n",
    "\n",
    "    ax_1.set_title(f'Распределение отключений по времени и дням недели \\n{region}',\n",
    "                   fontsize=15)\n",
    "    ax_2.set_title(f'\\n Распределение отключений по месяцам \\n{region}',\n",
    "                   fontsize=15)\n",
    "\n",
    "    fig2_reg.set_figwidth(15)\n",
    "    fig2_reg.set_figheight(10)\n",
    "\n",
    "    fig2_reg.savefig(f'Данные_{YEAR}/Откл в рег по времени/Отключения в {region}')\n",
    "\n",
    "#    plt.show()"
   ]
  },
  {
   "cell_type": "code",
   "execution_count": 25,
   "metadata": {},
   "outputs": [],
   "source": [
    "# list_target_reg = list(df_region[df_region['label_km']=='1']['region']) + list(df_region[df_region['label_km']=='2']['region'])\n",
    "\n",
    "# # Сохраним графики для целевых регионов\n",
    "# for reg in list_target_reg:\n",
    "#     graf_reg_stat_by_time(reg)"
   ]
  },
  {
   "cell_type": "markdown",
   "metadata": {},
   "source": [
    "### Статистика по отключениям ТСО"
   ]
  },
  {
   "cell_type": "markdown",
   "metadata": {},
   "source": [
    "#### Эксель с данными по отключениям оборудования: кол-во откл, недоотпуск, причины отлключений"
   ]
  },
  {
   "cell_type": "code",
   "execution_count": 284,
   "metadata": {},
   "outputs": [],
   "source": [
    "#org_dumm.columns.map(dict_reason)"
   ]
  },
  {
   "cell_type": "code",
   "execution_count": 285,
   "metadata": {},
   "outputs": [],
   "source": [
    "def object_stat_table(TSO):\n",
    "    # Таблица по авариям и недоотпуску оборудования ТСО\n",
    "    Obj_TSO_transit = dfcop[dfcop['name_TSO']==TSO].groupby('object_name')[['powerhour']].agg(['count','sum'])\n",
    "    Obj_TSO_transit['powerhour'] = Obj_TSO_transit['powerhour'].apply(lambda x: x.astype(int).round(1))\n",
    "\n",
    "    # Конкатинируем признаки технических причин\n",
    "    Obj_TSO_transit = pd.concat([Obj_TSO_transit,dfcop_dumm[dfcop_dumm['name_TSO']==TSO].groupby('object_name')[list(tech_dumm.columns)].sum()],axis=1)\n",
    "\n",
    "    # Конкатинируем признаки организационных причин\n",
    "    Obj_TSO_transit = pd.concat([Obj_TSO_transit,dfcop_dumm[dfcop_dumm['name_TSO']==TSO].groupby('object_name')[list(org_dumm.columns)].sum()],axis=1)\n",
    "\n",
    "    # Удаляем столбцы, в которых все значения равны 0\n",
    "    Obj_TSO_transit = Obj_TSO_transit.loc[:,(Obj_TSO_transit!=0).any(axis=0)]\n",
    "\n",
    "    # Переименовываем колонки с причинами\n",
    "    Obj_TSO_transit = Obj_TSO_transit.rename(columns=dict_reason)\n",
    "    \n",
    "    Obj_TSO_transit.reset_index(inplace=True)\n",
    "    \n",
    "    Obj_TSO_transit = Obj_TSO_transit.rename(columns={'object_name':'Наименование объекта',\n",
    "                                                     'count':'Кол-во отключений',\n",
    "                                                     'sum':'Суммарный недоотпуск'})\n",
    "    \n",
    "    Obj_TSO_transit['Наименование объекта'] = Obj_TSO_transit['Наименование объекта'].apply(lambda x: x[:x.find('_id_')])\n",
    "    \n",
    "\n",
    "    # Сохраняем таблицу\n",
    "    # Obj_TSO_transit.to_excel(f'Стат_по_оборуд_{TSO}.xlsx')\n",
    "    return Obj_TSO_transit"
   ]
  },
  {
   "cell_type": "markdown",
   "metadata": {
    "scrolled": true
   },
   "source": [
    "#### График ТОП-5 причин аварий"
   ]
  },
  {
   "cell_type": "code",
   "execution_count": 26,
   "metadata": {},
   "outputs": [],
   "source": [
    "# tso_1 = 'Общество с ограниченной ответственностью \"Объединённые региональные электрические сети Карелии\" (ООО \"ОРЭС-Карелия\")'\n",
    "# object_stat_table(tso_1).sum()"
   ]
  },
  {
   "cell_type": "code",
   "execution_count": 286,
   "metadata": {
    "scrolled": true
   },
   "outputs": [],
   "source": [
    "def graf_tso_reasons(tso):\n",
    "    # Распределение организационных причин аварий\n",
    "    org_reson_stat = object_stat_table(tso)\n",
    "    org_reson_stat = org_reson_stat[set(org_reson_stat.columns)&set(org_dumm.columns.map(dict_reason))].sum().sort_values(ascending=False)\n",
    "\n",
    "    # Распределение технических причин аварий\n",
    "    tech_reson_stat = object_stat_table(tso)\n",
    "    tech_reson_stat = tech_reson_stat[set(tech_reson_stat.columns)&set(tech_dumm.columns.map(dict_reason))].sum().sort_values(ascending=False)\n",
    "\n",
    "    fig = make_subplots(rows=1, cols=2, specs=[[{'type':'domain'}, {'type':'domain'}]])\n",
    "\n",
    "    fig.add_trace(go.Pie(labels = org_reson_stat.index[:5],\n",
    "                         values = org_reson_stat.values[:5],\n",
    "                         name=\"Организационные причины\",\n",
    "                        title = 'Организационные',\n",
    "                        legendgroup=\"group1\"), 1, 1)\n",
    "    \n",
    "    fig.add_trace(go.Pie(labels = tech_reson_stat.index[:5],\n",
    "                         values = tech_reson_stat.values[:5],\n",
    "                         name=\"Технические причины\",\n",
    "                        title = 'Технические',\n",
    "                        legendgroup=\"group2\"), 1, 2)\n",
    "\n",
    "    # Use `hole` to create a donut-like pie chart\n",
    "    fig.update_traces(hole=.55, hoverinfo=\"label+percent+name\", textinfo='percent+value')\n",
    "\n",
    "    fig.update_layout(\n",
    "        title_text=f\"ТОП-5 причин аварий: {tso}\",\n",
    "        autosize=True,\n",
    "        margin=dict(l=0, r=0, t=50, b=0),\n",
    "        legend_orientation=\"h\",\n",
    "        legend=dict(x=.5, xanchor=\"center\", font=dict(size=8))\n",
    "\n",
    "        # Add annotations in the center of the donut pies.\n",
    "    )\n",
    "    #         annotations=[dict(text='Орг. причины', x=0.18, y=0.5, font_size=10, showarrow=False),\n",
    "    #                  dict(text='Тех. причины', x=0.82, y=0.5, font_size=10, showarrow=False)]\n",
    "\n",
    "    #fig.show()\n",
    "    #pio.write_image(fig, f'{tso}/ТОП_причин_аварий.pdf')\n",
    "    return fig"
   ]
  },
  {
   "cell_type": "markdown",
   "metadata": {},
   "source": [
    "#### Корелляция причин повреждений"
   ]
  },
  {
   "cell_type": "code",
   "execution_count": 287,
   "metadata": {},
   "outputs": [],
   "source": [
    "def fig_corr_matrix(tso):\n",
    "    test_df = object_stat_table(tso).iloc[:,3:].corr()\n",
    "\n",
    "    test_df2 = test_df[(test_df > 0.7)].dropna(how='all').dropna(how='all',axis=1)\n",
    "\n",
    "    fig_h4 = plt.figure(figsize=(10,10), dpi= 800)\n",
    "\n",
    "    ax_h4 = fig_h4.add_subplot(1, 1, 1)\n",
    "\n",
    "    sns.heatmap(test_df2, \n",
    "                annot=True, fmt='.2f', annot_kws={'fontsize':8}, cmap='Reds', linewidths=0.5, ax=ax_h4, cbar=False)\n",
    "\n",
    "    ax_h4.set_title(f'Матрица корреляций причин отключений',fontsize=15)\n",
    "    \n",
    "    fig_h4.tight_layout()\n",
    "    \n",
    "    return fig_h4\n",
    "    #return test_df2.round(2)\n",
    "    #fig_h4.savefig(f'МК_причин_откл')\n",
    "    #plt.show()"
   ]
  },
  {
   "cell_type": "markdown",
   "metadata": {},
   "source": [
    "### Выгрузим основыне данные по ТСО в одноименные папки."
   ]
  },
  {
   "cell_type": "code",
   "execution_count": 27,
   "metadata": {},
   "outputs": [],
   "source": [
    "# # Общее кол-во аварий\n",
    "\n",
    "# for tso in [TSO_1,TSO_2,TSO_3,TSO_4]:\n",
    "#     print(f'кол-во аварий {tso} =',dfcop[dfcop['name_TSO']==tso].shape[0])\n",
    "\n",
    "#     # Суммарный недоотпуск\n",
    "\n",
    "#     print(f'суммарный недоотпуск {tso} =',dfcop[dfcop['name_TSO']==tso]['powerhour'].sum())\n",
    "    \n",
    "#     print('-'*12)"
   ]
  },
  {
   "cell_type": "code",
   "execution_count": 28,
   "metadata": {},
   "outputs": [],
   "source": [
    "# if not os.path.exists(f'Данные_ТСО{YEAR}'):\n",
    "#     os.mkdir(f'Данные_ТСО{YEAR}')\n",
    "\n",
    "\n",
    "\n",
    "# for tso in [TSO_1,TSO_2,TSO_3,TSO_4,]:\n",
    "    \n",
    "#     os.chdir(f\"/Users/denisenko/Desktop/Минэнерго/Отключения - выгрузка/Данные_{YEAR}/Данные_ТСО{YEAR}\")\n",
    "    \n",
    "#     # make file\n",
    "#     if not os.path.exists(f'{tso}'):\n",
    "#         os.mkdir(f'{tso}')\n",
    "    \n",
    "#     # Эксель с данными по оборудованию: отключения, недоотпуск, причины \n",
    "#     object_stat_table(tso).to_excel(f'{tso}/Стат_по_оборуд.xlsx')\n",
    "#     print(f'done for {tso}')\n",
    "    \n",
    "#     # График причин отключений в данном ТСО\n",
    "#     reason_fig = graf_tso_reasons(tso)\n",
    "#     pio.write_image(reason_fig, f'{tso}/ТОП_причин_аварий_{tso}.pdf')\n",
    "    \n",
    "#     # Графики данных отключений по времени: время суток, дни недели, месяцы\n",
    "#     TSO_stat_by_time(tso).savefig(f'{tso}/Отключения по времени')\n",
    "    \n",
    "#     # Графики наиболее отключаемого оборудования: по количеству отключений и по недоотпуску\n",
    "#     TSO_object_name(tso).savefig(f'{tso}/Отключения по оборудованию')\n",
    "    \n",
    "#     # Эксель - матрица корреляций причин отключений\n",
    "#     try: \n",
    "#         fig_corr_matrix(tso).savefig(f'{tso}/МК_причин_откл.pdf')\n",
    "#         #.to_excel(f'{tso}/МК_причин_откл_.xlsx')\n",
    "#     except:\n",
    "#         print(f'В {tso} \\n нет значимых корреляций')\n",
    "    \n",
    "#     os.chdir(r\"/Users/denisenko/Desktop/Минэнерго/Отключения - выгрузка\")"
   ]
  },
  {
   "cell_type": "markdown",
   "metadata": {},
   "source": [
    "### Корреляция параметров ТСО"
   ]
  },
  {
   "cell_type": "code",
   "execution_count": 29,
   "metadata": {},
   "outputs": [],
   "source": [
    "#df_TSO.corr()"
   ]
  },
  {
   "cell_type": "code",
   "execution_count": 797,
   "metadata": {},
   "outputs": [],
   "source": [
    "df_TSO_test = df_TSO.copy()"
   ]
  },
  {
   "cell_type": "code",
   "execution_count": 798,
   "metadata": {},
   "outputs": [],
   "source": [
    "df_TSO_test['powerhour/acc'] = df_TSO_test['powerhour']/df_TSO_test['shotdown_count']"
   ]
  },
  {
   "cell_type": "code",
   "execution_count": 30,
   "metadata": {},
   "outputs": [],
   "source": [
    "# fig_h9 = plt.figure(figsize=(6,6), dpi= 100)\n",
    "\n",
    "# ax_h9 = fig_h9.add_subplot(1, 1, 1)\n",
    "\n",
    "# sns.heatmap(df_TSO_test.corr(), \n",
    "#             annot=True, fmt='.2f', annot_kws={'fontsize':8}, cmap='Reds', linewidths=0.5, ax=ax_h9, cbar=False)\n",
    "\n",
    "# ax_h9.set_title(f'Матрица корреляций параметров ТСО',fontsize=15)\n",
    "\n",
    "# fig_h9.tight_layout()\n",
    "\n",
    "# fig_h9.show()"
   ]
  },
  {
   "cell_type": "code",
   "execution_count": 31,
   "metadata": {},
   "outputs": [],
   "source": [
    "# fig_h9 = plt.figure(figsize=(6,6), dpi= 100)\n",
    "\n",
    "# ax_h9 = fig_h9.add_subplot(1, 1, 1)\n",
    "\n",
    "# sns.heatmap(df_region.corr(), \n",
    "#             annot=True, fmt='.2f', annot_kws={'fontsize':8}, cmap='Reds', linewidths=0.5, ax=ax_h9, cbar=False)\n",
    "\n",
    "# ax_h9.set_title(f'Матрица корреляций параметров регионов',fontsize=15)\n",
    "\n",
    "# fig_h9.tight_layout()\n",
    "\n",
    "# fig_h9.show()"
   ]
  },
  {
   "cell_type": "code",
   "execution_count": null,
   "metadata": {},
   "outputs": [],
   "source": []
  }
 ],
 "metadata": {
  "kernelspec": {
   "display_name": "Python 3",
   "language": "python",
   "name": "python3"
  },
  "language_info": {
   "codemirror_mode": {
    "name": "ipython",
    "version": 3
   },
   "file_extension": ".py",
   "mimetype": "text/x-python",
   "name": "python",
   "nbconvert_exporter": "python",
   "pygments_lexer": "ipython3",
   "version": "3.7.7"
  },
  "toc": {
   "base_numbering": 1,
   "nav_menu": {},
   "number_sections": true,
   "sideBar": true,
   "skip_h1_title": false,
   "title_cell": "Table of Contents",
   "title_sidebar": "Contents",
   "toc_cell": false,
   "toc_position": {
    "height": "calc(100% - 180px)",
    "left": "10px",
    "top": "150px",
    "width": "256px"
   },
   "toc_section_display": true,
   "toc_window_display": true
  },
  "varInspector": {
   "cols": {
    "lenName": 16,
    "lenType": 16,
    "lenVar": 40
   },
   "kernels_config": {
    "python": {
     "delete_cmd_postfix": "",
     "delete_cmd_prefix": "del ",
     "library": "var_list.py",
     "varRefreshCmd": "print(var_dic_list())"
    },
    "r": {
     "delete_cmd_postfix": ") ",
     "delete_cmd_prefix": "rm(",
     "library": "var_list.r",
     "varRefreshCmd": "cat(var_dic_list()) "
    }
   },
   "position": {
    "height": "411px",
    "left": "943px",
    "right": "20px",
    "top": "120px",
    "width": "317px"
   },
   "types_to_exclude": [
    "module",
    "function",
    "builtin_function_or_method",
    "instance",
    "_Feature"
   ],
   "window_display": false
  }
 },
 "nbformat": 4,
 "nbformat_minor": 4
}
